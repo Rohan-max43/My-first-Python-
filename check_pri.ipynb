{
 "cells": [
  {
   "cell_type": "code",
   "execution_count": 6,
   "id": "2fc63278",
   "metadata": {},
   "outputs": [
    {
     "data": {
      "text/plain": [
       "'Prime'"
      ]
     },
     "execution_count": 6,
     "metadata": {},
     "output_type": "execute_result"
    }
   ],
   "source": [
    "def check_prime(a):\n",
    "    number_type = \"Prime\"\n",
    "    for i in range(2, a):\n",
    "        if a % i == 0:\n",
    "            number_type = \"Not-prime\"\n",
    "    return number_type    \n",
    "\n",
    "check_prime(97)"
   ]
  },
  {
   "cell_type": "code",
   "execution_count": null,
   "id": "9238509f",
   "metadata": {},
   "outputs": [],
   "source": []
  },
  {
   "cell_type": "code",
   "execution_count": 34,
   "id": "64779629",
   "metadata": {},
   "outputs": [
    {
     "name": "stdout",
     "output_type": "stream",
     "text": [
      "154 is NOT an Armstrong number.\n"
     ]
    }
   ],
   "source": [
    "# Function to check if a number is an Armstrong number\n",
    "def is_armstrong(num):\n",
    "    digits = str(num)\n",
    "    power = len(digits)\n",
    "    total = sum(int(d)**power for d in digits)\n",
    "    return total == num\n",
    "\n",
    "# --- Part 1: Check a single number ---\n",
    "number = int(input(\"Enter a number to check: \"))\n",
    "if is_armstrong(number):\n",
    "    print(f\"{number} is an Armstrong number.\")\n",
    "else:\n",
    "    print(f\"{number} is NOT an Armstrong number.\")"
   ]
  },
  {
   "cell_type": "code",
   "execution_count": 15,
   "id": "521f5620",
   "metadata": {},
   "outputs": [
    {
     "data": {
      "text/plain": [
       "10"
      ]
     },
     "execution_count": 15,
     "metadata": {},
     "output_type": "execute_result"
    }
   ],
   "source": [
    "def sum_of_num(num):\n",
    "    total = 0\n",
    "    for i in str(num):\n",
    "        total += int(i)\n",
    "    return total\n",
    "sum_of_num(55)"
   ]
  },
  {
   "cell_type": "code",
   "execution_count": 3,
   "id": "5b17b97d",
   "metadata": {},
   "outputs": [
    {
     "data": {
      "text/plain": [
       "24"
      ]
     },
     "execution_count": 3,
     "metadata": {},
     "output_type": "execute_result"
    }
   ],
   "source": [
    "def factorial_calculation(n):\n",
    "    total = 1\n",
    "    for num in range(1, n +1):\n",
    "        total *= num\n",
    "    return total  \n",
    "factorial_calculation(4)  "
   ]
  },
  {
   "cell_type": "code",
   "execution_count": 38,
   "id": "3449a80b",
   "metadata": {},
   "outputs": [
    {
     "name": "stdout",
     "output_type": "stream",
     "text": [
      "Not Amstrong number\n"
     ]
    }
   ],
   "source": [
    "a = 130\n",
    "power = len(str(a))\n",
    "total = 0 \n",
    "for i in str(a):\n",
    "    total += int(i)**power\n",
    "\n",
    "if total == a:\n",
    "    print(\"Amstrong number\")\n",
    "else:\n",
    "    print(\"Not Amstrong number\")    "
   ]
  },
  {
   "cell_type": "code",
   "execution_count": 24,
   "id": "3f23ead5",
   "metadata": {},
   "outputs": [
    {
     "data": {
      "text/plain": [
       "tuple"
      ]
     },
     "execution_count": 24,
     "metadata": {},
     "output_type": "execute_result"
    }
   ],
   "source": [
    "a = 1, 3\n",
    "type(a)"
   ]
  },
  {
   "cell_type": "code",
   "execution_count": 37,
   "id": "5dc805da",
   "metadata": {},
   "outputs": [
    {
     "data": {
      "text/plain": [
       "3"
      ]
     },
     "execution_count": 37,
     "metadata": {},
     "output_type": "execute_result"
    }
   ],
   "source": [
    "a = 130\n",
    "len(str(a))"
   ]
  },
  {
   "cell_type": "code",
   "execution_count": null,
   "id": "930903cf",
   "metadata": {},
   "outputs": [],
   "source": []
  },
  {
   "cell_type": "code",
   "execution_count": 45,
   "id": "86201550",
   "metadata": {},
   "outputs": [
    {
     "name": "stdout",
     "output_type": "stream",
     "text": [
      "120\n"
     ]
    }
   ],
   "source": [
    "def factorial_calculation(n):\n",
    "    total = 1\n",
    "    for num in range(1, n + 1):\n",
    "        total *= num\n",
    "    return total    \n",
    "\n",
    "print(factorial_calculation(5))\n"
   ]
  },
  {
   "cell_type": "code",
   "execution_count": null,
   "id": "d7ceef23",
   "metadata": {},
   "outputs": [
    {
     "name": "stdout",
     "output_type": "stream",
     "text": [
      "Not Prime\n"
     ]
    }
   ],
   "source": [
    "def prime_check(n):\n",
    "    number_type = \"Prime\"\n",
    "    for num in range(2, n+1):\n",
    "        if n % num == 0:\n",
    "            number_type = \"Not Prime\"\n",
    "    return number_type\n",
    "\n",
    "print(prime_check(11))"
   ]
  },
  {
   "cell_type": "code",
   "execution_count": null,
   "id": "a92ed5a2",
   "metadata": {},
   "outputs": [],
   "source": []
  }
 ],
 "metadata": {
  "kernelspec": {
   "display_name": "py311",
   "language": "python",
   "name": "python3"
  },
  "language_info": {
   "codemirror_mode": {
    "name": "ipython",
    "version": 3
   },
   "file_extension": ".py",
   "mimetype": "text/x-python",
   "name": "python",
   "nbconvert_exporter": "python",
   "pygments_lexer": "ipython3",
   "version": "3.11.13"
  }
 },
 "nbformat": 4,
 "nbformat_minor": 5
}
